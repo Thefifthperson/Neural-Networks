{
  "nbformat": 4,
  "nbformat_minor": 0,
  "metadata": {
    "colab": {
      "provenance": [],
      "authorship_tag": "ABX9TyN26YrvY5lweBpcplyNYfer",
      "include_colab_link": true
    },
    "kernelspec": {
      "name": "python3",
      "display_name": "Python 3"
    },
    "language_info": {
      "name": "python"
    }
  },
  "cells": [
    {
      "cell_type": "markdown",
      "metadata": {
        "id": "view-in-github",
        "colab_type": "text"
      },
      "source": [
        "<a href=\"https://colab.research.google.com/github/Thefifthperson/Neural-Networks/blob/main/SineCosineModelPractice.ipynb\" target=\"_parent\"><img src=\"https://colab.research.google.com/assets/colab-badge.svg\" alt=\"Open In Colab\"/></a>"
      ]
    },
    {
      "cell_type": "code",
      "execution_count": 200,
      "metadata": {
        "id": "n-qsJN4Pu7od"
      },
      "outputs": [],
      "source": [
        "#Sine Model\n",
        "import tensorflow as tf\n",
        "import numpy as np\n",
        "import matplotlib.pyplot as plt"
      ]
    },
    {
      "cell_type": "code",
      "source": [
        "#generate some sample data\n",
        "x_train = np.linspace (0, 5*np.pi/2, 1000) #input values\n",
        "y_train = np.sin (x_train) #corresponding sine values\n",
        "z_train = np.cos (x_train) #corresponding cosine values\n"
      ],
      "metadata": {
        "id": "-ensXsTSvGYo"
      },
      "execution_count": 201,
      "outputs": []
    },
    {
      "cell_type": "code",
      "source": [
        "#Define the Sine model architecture\n",
        "sinmodel = tf.keras.Sequential ([\n",
        "    tf.keras.layers.Dense(64, activation =\"relu\", input_shape=(1,)),\n",
        "    tf.keras.layers.Dense(64, activation =\"relu\"),\n",
        "    tf.keras.layers.Dense(1)\n",
        "])\n",
        "\n",
        "#Define the Cosine model architecture\n",
        "cosmodel = tf.keras.Sequential ([\n",
        "    tf.keras.layers.Dense(64, activation =\"relu\", input_shape=(1,)),\n",
        "    tf.keras.layers.Dense(64, activation =\"relu\"),\n",
        "    tf.keras.layers.Dense(1)\n",
        "])"
      ],
      "metadata": {
        "id": "ooSWLpv0wXgI"
      },
      "execution_count": 202,
      "outputs": []
    },
    {
      "cell_type": "code",
      "source": [
        "#Compile the sine model\n",
        "sinmodel.compile(optimizer='adam', loss='MSE')\n",
        "#sinmodel.compile(optimizer='adamax', loss='MSE')\n",
        "#sinmodel.compile(optimizer='sgd', loss='MSE')\n",
        "#sinmodel.compile(optimizer='nadam', loss='MSE')\n",
        "#sinmodel.compile(optimizer='adam', loss='huber_loss')\n",
        "#sinmodel.compile(optimizer='adam', loss='MAE')"
      ],
      "metadata": {
        "id": "eO0Om85PyhCO"
      },
      "execution_count": 203,
      "outputs": []
    },
    {
      "cell_type": "code",
      "source": [
        "#Compile the cosine model\n",
        "#cosmodel.compile(optimizer='RMSprop', loss= 'MSE')\n",
        "#cosmodel.compile(optimizer='adam', loss= 'MSE')\n",
        "cosmodel.compile(optimizer='nadam', loss= 'MSE')\n",
        "#cosmodel.compile(optimizer='adamax', loss= 'MSE')\n",
        "#cosmodel.compile(optimizer='adam', loss= 'MAE')\n",
        "#cosmodel.compile(optimizer='adam', loss= 'huber_loss')"
      ],
      "metadata": {
        "id": "wwisqohikZx_"
      },
      "execution_count": 211,
      "outputs": []
    },
    {
      "cell_type": "code",
      "source": [
        "#Train the sine model\n",
        "sinmodel.fit(x_train, y_train, epochs=100, batch_size=32)"
      ],
      "metadata": {
        "colab": {
          "base_uri": "https://localhost:8080/"
        },
        "id": "KO1d1h6EzAAM",
        "outputId": "ae7fbbd5-82df-430e-c373-8007571f71fb"
      },
      "execution_count": 205,
      "outputs": [
        {
          "output_type": "stream",
          "name": "stdout",
          "text": [
            "Epoch 1/100\n",
            "32/32 [==============================] - 1s 2ms/step - loss: 0.5427\n",
            "Epoch 2/100\n",
            "32/32 [==============================] - 0s 2ms/step - loss: 0.4979\n",
            "Epoch 3/100\n",
            "32/32 [==============================] - 0s 2ms/step - loss: 0.4746\n",
            "Epoch 4/100\n",
            "32/32 [==============================] - 0s 2ms/step - loss: 0.4558\n",
            "Epoch 5/100\n",
            "32/32 [==============================] - 0s 2ms/step - loss: 0.4406\n",
            "Epoch 6/100\n",
            "32/32 [==============================] - 0s 2ms/step - loss: 0.4340\n",
            "Epoch 7/100\n",
            "32/32 [==============================] - 0s 2ms/step - loss: 0.4237\n",
            "Epoch 8/100\n",
            "32/32 [==============================] - 0s 2ms/step - loss: 0.4130\n",
            "Epoch 9/100\n",
            "32/32 [==============================] - 0s 3ms/step - loss: 0.3973\n",
            "Epoch 10/100\n",
            "32/32 [==============================] - 0s 2ms/step - loss: 0.3877\n",
            "Epoch 11/100\n",
            "32/32 [==============================] - 0s 3ms/step - loss: 0.3682\n",
            "Epoch 12/100\n",
            "32/32 [==============================] - 0s 2ms/step - loss: 0.3436\n",
            "Epoch 13/100\n",
            "32/32 [==============================] - 0s 2ms/step - loss: 0.3224\n",
            "Epoch 14/100\n",
            "32/32 [==============================] - 0s 2ms/step - loss: 0.2891\n",
            "Epoch 15/100\n",
            "32/32 [==============================] - 0s 2ms/step - loss: 0.2667\n",
            "Epoch 16/100\n",
            "32/32 [==============================] - 0s 2ms/step - loss: 0.2124\n",
            "Epoch 17/100\n",
            "32/32 [==============================] - 0s 3ms/step - loss: 0.1784\n",
            "Epoch 18/100\n",
            "32/32 [==============================] - 0s 3ms/step - loss: 0.1278\n",
            "Epoch 19/100\n",
            "32/32 [==============================] - 0s 3ms/step - loss: 0.0887\n",
            "Epoch 20/100\n",
            "32/32 [==============================] - 0s 3ms/step - loss: 0.0603\n",
            "Epoch 21/100\n",
            "32/32 [==============================] - 0s 2ms/step - loss: 0.0361\n",
            "Epoch 22/100\n",
            "32/32 [==============================] - 0s 3ms/step - loss: 0.0233\n",
            "Epoch 23/100\n",
            "32/32 [==============================] - 0s 2ms/step - loss: 0.0145\n",
            "Epoch 24/100\n",
            "32/32 [==============================] - 0s 2ms/step - loss: 0.0102\n",
            "Epoch 25/100\n",
            "32/32 [==============================] - 0s 3ms/step - loss: 0.0060\n",
            "Epoch 26/100\n",
            "32/32 [==============================] - 0s 3ms/step - loss: 0.0046\n",
            "Epoch 27/100\n",
            "32/32 [==============================] - 0s 3ms/step - loss: 0.0038\n",
            "Epoch 28/100\n",
            "32/32 [==============================] - 0s 3ms/step - loss: 0.0034\n",
            "Epoch 29/100\n",
            "32/32 [==============================] - 0s 4ms/step - loss: 0.0028\n",
            "Epoch 30/100\n",
            "32/32 [==============================] - 0s 3ms/step - loss: 0.0026\n",
            "Epoch 31/100\n",
            "32/32 [==============================] - 0s 4ms/step - loss: 0.0024\n",
            "Epoch 32/100\n",
            "32/32 [==============================] - 0s 4ms/step - loss: 0.0023\n",
            "Epoch 33/100\n",
            "32/32 [==============================] - 0s 3ms/step - loss: 0.0023\n",
            "Epoch 34/100\n",
            "32/32 [==============================] - 0s 3ms/step - loss: 0.0024\n",
            "Epoch 35/100\n",
            "32/32 [==============================] - 0s 3ms/step - loss: 0.0026\n",
            "Epoch 36/100\n",
            "32/32 [==============================] - 0s 3ms/step - loss: 0.0024\n",
            "Epoch 37/100\n",
            "32/32 [==============================] - 0s 3ms/step - loss: 0.0024\n",
            "Epoch 38/100\n",
            "32/32 [==============================] - 0s 3ms/step - loss: 0.0026\n",
            "Epoch 39/100\n",
            "32/32 [==============================] - 0s 3ms/step - loss: 0.0024\n",
            "Epoch 40/100\n",
            "32/32 [==============================] - 0s 3ms/step - loss: 0.0025\n",
            "Epoch 41/100\n",
            "32/32 [==============================] - 0s 2ms/step - loss: 0.0022\n",
            "Epoch 42/100\n",
            "32/32 [==============================] - 0s 3ms/step - loss: 0.0025\n",
            "Epoch 43/100\n",
            "32/32 [==============================] - 0s 2ms/step - loss: 0.0022\n",
            "Epoch 44/100\n",
            "32/32 [==============================] - 0s 2ms/step - loss: 0.0023\n",
            "Epoch 45/100\n",
            "32/32 [==============================] - 0s 2ms/step - loss: 0.0026\n",
            "Epoch 46/100\n",
            "32/32 [==============================] - 0s 3ms/step - loss: 0.0021\n",
            "Epoch 47/100\n",
            "32/32 [==============================] - 0s 3ms/step - loss: 0.0030\n",
            "Epoch 48/100\n",
            "32/32 [==============================] - 0s 2ms/step - loss: 0.0032\n",
            "Epoch 49/100\n",
            "32/32 [==============================] - 0s 2ms/step - loss: 0.0060\n",
            "Epoch 50/100\n",
            "32/32 [==============================] - 0s 2ms/step - loss: 0.0024\n",
            "Epoch 51/100\n",
            "32/32 [==============================] - 0s 2ms/step - loss: 0.0029\n",
            "Epoch 52/100\n",
            "32/32 [==============================] - 0s 2ms/step - loss: 0.0026\n",
            "Epoch 53/100\n",
            "32/32 [==============================] - 0s 2ms/step - loss: 0.0029\n",
            "Epoch 54/100\n",
            "32/32 [==============================] - 0s 3ms/step - loss: 0.0023\n",
            "Epoch 55/100\n",
            "32/32 [==============================] - 0s 2ms/step - loss: 0.0025\n",
            "Epoch 56/100\n",
            "32/32 [==============================] - 0s 2ms/step - loss: 0.0034\n",
            "Epoch 57/100\n",
            "32/32 [==============================] - 0s 3ms/step - loss: 0.0029\n",
            "Epoch 58/100\n",
            "32/32 [==============================] - 0s 2ms/step - loss: 0.0032\n",
            "Epoch 59/100\n",
            "32/32 [==============================] - 0s 2ms/step - loss: 0.0026\n",
            "Epoch 60/100\n",
            "32/32 [==============================] - 0s 2ms/step - loss: 0.0024\n",
            "Epoch 61/100\n",
            "32/32 [==============================] - 0s 2ms/step - loss: 0.0025\n",
            "Epoch 62/100\n",
            "32/32 [==============================] - 0s 2ms/step - loss: 0.0024\n",
            "Epoch 63/100\n",
            "32/32 [==============================] - 0s 2ms/step - loss: 0.0022\n",
            "Epoch 64/100\n",
            "32/32 [==============================] - 0s 3ms/step - loss: 0.0025\n",
            "Epoch 65/100\n",
            "32/32 [==============================] - 0s 2ms/step - loss: 0.0044\n",
            "Epoch 66/100\n",
            "32/32 [==============================] - 0s 2ms/step - loss: 0.0026\n",
            "Epoch 67/100\n",
            "32/32 [==============================] - 0s 2ms/step - loss: 0.0023\n",
            "Epoch 68/100\n",
            "32/32 [==============================] - 0s 3ms/step - loss: 0.0024\n",
            "Epoch 69/100\n",
            "32/32 [==============================] - 0s 2ms/step - loss: 0.0023\n",
            "Epoch 70/100\n",
            "32/32 [==============================] - 0s 2ms/step - loss: 0.0025\n",
            "Epoch 71/100\n",
            "32/32 [==============================] - 0s 3ms/step - loss: 0.0026\n",
            "Epoch 72/100\n",
            "32/32 [==============================] - 0s 2ms/step - loss: 0.0022\n",
            "Epoch 73/100\n",
            "32/32 [==============================] - 0s 2ms/step - loss: 0.0025\n",
            "Epoch 74/100\n",
            "32/32 [==============================] - 0s 2ms/step - loss: 0.0023\n",
            "Epoch 75/100\n",
            "32/32 [==============================] - 0s 2ms/step - loss: 0.0025\n",
            "Epoch 76/100\n",
            "32/32 [==============================] - 0s 2ms/step - loss: 0.0027\n",
            "Epoch 77/100\n",
            "32/32 [==============================] - 0s 2ms/step - loss: 0.0031\n",
            "Epoch 78/100\n",
            "32/32 [==============================] - 0s 3ms/step - loss: 0.0033\n",
            "Epoch 79/100\n",
            "32/32 [==============================] - 0s 3ms/step - loss: 0.0028\n",
            "Epoch 80/100\n",
            "32/32 [==============================] - 0s 2ms/step - loss: 0.0023\n",
            "Epoch 81/100\n",
            "32/32 [==============================] - 0s 2ms/step - loss: 0.0026\n",
            "Epoch 82/100\n",
            "32/32 [==============================] - 0s 2ms/step - loss: 0.0024\n",
            "Epoch 83/100\n",
            "32/32 [==============================] - 0s 2ms/step - loss: 0.0023\n",
            "Epoch 84/100\n",
            "32/32 [==============================] - 0s 2ms/step - loss: 0.0023\n",
            "Epoch 85/100\n",
            "32/32 [==============================] - 0s 2ms/step - loss: 0.0025\n",
            "Epoch 86/100\n",
            "32/32 [==============================] - 0s 2ms/step - loss: 0.0021\n",
            "Epoch 87/100\n",
            "32/32 [==============================] - 0s 2ms/step - loss: 0.0024\n",
            "Epoch 88/100\n",
            "32/32 [==============================] - 0s 2ms/step - loss: 0.0024\n",
            "Epoch 89/100\n",
            "32/32 [==============================] - 0s 2ms/step - loss: 0.0024\n",
            "Epoch 90/100\n",
            "32/32 [==============================] - 0s 2ms/step - loss: 0.0027\n",
            "Epoch 91/100\n",
            "32/32 [==============================] - 0s 2ms/step - loss: 0.0031\n",
            "Epoch 92/100\n",
            "32/32 [==============================] - 0s 7ms/step - loss: 0.0028\n",
            "Epoch 93/100\n",
            "32/32 [==============================] - 0s 7ms/step - loss: 0.0026\n",
            "Epoch 94/100\n",
            "32/32 [==============================] - 0s 2ms/step - loss: 0.0024\n",
            "Epoch 95/100\n",
            "32/32 [==============================] - 0s 2ms/step - loss: 0.0025\n",
            "Epoch 96/100\n",
            "32/32 [==============================] - 0s 2ms/step - loss: 0.0027\n",
            "Epoch 97/100\n",
            "32/32 [==============================] - 0s 4ms/step - loss: 0.0027\n",
            "Epoch 98/100\n",
            "32/32 [==============================] - 0s 3ms/step - loss: 0.0034\n",
            "Epoch 99/100\n",
            "32/32 [==============================] - 0s 15ms/step - loss: 0.0025\n",
            "Epoch 100/100\n",
            "32/32 [==============================] - 0s 8ms/step - loss: 0.0026\n"
          ]
        },
        {
          "output_type": "execute_result",
          "data": {
            "text/plain": [
              "<keras.src.callbacks.History at 0x7f94a829cfd0>"
            ]
          },
          "metadata": {},
          "execution_count": 205
        }
      ]
    },
    {
      "cell_type": "code",
      "source": [
        "#Train the cosine model\n",
        "cosmodel.fit(x_train, z_train, epochs=100, batch_size=32)\n"
      ],
      "metadata": {
        "colab": {
          "base_uri": "https://localhost:8080/"
        },
        "id": "cdp9iW45lVfH",
        "outputId": "ce86fab3-b288-4677-9694-aaa6c182e47f"
      },
      "execution_count": 212,
      "outputs": [
        {
          "output_type": "stream",
          "name": "stdout",
          "text": [
            "Epoch 1/100\n",
            "32/32 [==============================] - 1s 3ms/step - loss: 7.1173e-04\n",
            "Epoch 2/100\n",
            "32/32 [==============================] - 0s 2ms/step - loss: 2.8833e-04\n",
            "Epoch 3/100\n",
            "32/32 [==============================] - 0s 3ms/step - loss: 2.4183e-04\n",
            "Epoch 4/100\n",
            "32/32 [==============================] - 0s 3ms/step - loss: 2.6053e-04\n",
            "Epoch 5/100\n",
            "32/32 [==============================] - 0s 3ms/step - loss: 1.3402e-04\n",
            "Epoch 6/100\n",
            "32/32 [==============================] - 0s 2ms/step - loss: 1.5932e-04\n",
            "Epoch 7/100\n",
            "32/32 [==============================] - 0s 3ms/step - loss: 1.6202e-04\n",
            "Epoch 8/100\n",
            "32/32 [==============================] - 0s 2ms/step - loss: 1.0684e-04\n",
            "Epoch 9/100\n",
            "32/32 [==============================] - 0s 2ms/step - loss: 3.3058e-04\n",
            "Epoch 10/100\n",
            "32/32 [==============================] - 0s 2ms/step - loss: 1.7518e-04\n",
            "Epoch 11/100\n",
            "32/32 [==============================] - 0s 2ms/step - loss: 7.4436e-05\n",
            "Epoch 12/100\n",
            "32/32 [==============================] - 0s 2ms/step - loss: 7.4773e-05\n",
            "Epoch 13/100\n",
            "32/32 [==============================] - 0s 2ms/step - loss: 7.1068e-05\n",
            "Epoch 14/100\n",
            "32/32 [==============================] - 0s 2ms/step - loss: 6.0126e-05\n",
            "Epoch 15/100\n",
            "32/32 [==============================] - 0s 2ms/step - loss: 5.5062e-05\n",
            "Epoch 16/100\n",
            "32/32 [==============================] - 0s 2ms/step - loss: 9.4362e-05\n",
            "Epoch 17/100\n",
            "32/32 [==============================] - 0s 2ms/step - loss: 1.0827e-04\n",
            "Epoch 18/100\n",
            "32/32 [==============================] - 0s 2ms/step - loss: 1.7509e-04\n",
            "Epoch 19/100\n",
            "32/32 [==============================] - 0s 2ms/step - loss: 9.6503e-05\n",
            "Epoch 20/100\n",
            "32/32 [==============================] - 0s 2ms/step - loss: 1.2936e-04\n",
            "Epoch 21/100\n",
            "32/32 [==============================] - 0s 2ms/step - loss: 0.0011\n",
            "Epoch 22/100\n",
            "32/32 [==============================] - 0s 2ms/step - loss: 9.4379e-05\n",
            "Epoch 23/100\n",
            "32/32 [==============================] - 0s 3ms/step - loss: 1.2428e-04\n",
            "Epoch 24/100\n",
            "32/32 [==============================] - 0s 2ms/step - loss: 8.4216e-05\n",
            "Epoch 25/100\n",
            "32/32 [==============================] - 0s 2ms/step - loss: 1.4947e-04\n",
            "Epoch 26/100\n",
            "32/32 [==============================] - 0s 2ms/step - loss: 8.8275e-05\n",
            "Epoch 27/100\n",
            "32/32 [==============================] - 0s 2ms/step - loss: 7.8058e-05\n",
            "Epoch 28/100\n",
            "32/32 [==============================] - 0s 2ms/step - loss: 8.0162e-05\n",
            "Epoch 29/100\n",
            "32/32 [==============================] - 0s 3ms/step - loss: 1.5289e-04\n",
            "Epoch 30/100\n",
            "32/32 [==============================] - 0s 3ms/step - loss: 7.9226e-05\n",
            "Epoch 31/100\n",
            "32/32 [==============================] - 0s 2ms/step - loss: 5.5809e-05\n",
            "Epoch 32/100\n",
            "32/32 [==============================] - 0s 3ms/step - loss: 9.9902e-05\n",
            "Epoch 33/100\n",
            "32/32 [==============================] - 0s 3ms/step - loss: 5.7572e-05\n",
            "Epoch 34/100\n",
            "32/32 [==============================] - 0s 3ms/step - loss: 9.4761e-05\n",
            "Epoch 35/100\n",
            "32/32 [==============================] - 0s 3ms/step - loss: 6.4296e-05\n",
            "Epoch 36/100\n",
            "32/32 [==============================] - 0s 3ms/step - loss: 4.5142e-05\n",
            "Epoch 37/100\n",
            "32/32 [==============================] - 0s 3ms/step - loss: 4.4553e-05\n",
            "Epoch 38/100\n",
            "32/32 [==============================] - 0s 3ms/step - loss: 7.0335e-05\n",
            "Epoch 39/100\n",
            "32/32 [==============================] - 0s 2ms/step - loss: 1.3658e-04\n",
            "Epoch 40/100\n",
            "32/32 [==============================] - 0s 3ms/step - loss: 8.5310e-05\n",
            "Epoch 41/100\n",
            "32/32 [==============================] - 0s 3ms/step - loss: 4.3432e-05\n",
            "Epoch 42/100\n",
            "32/32 [==============================] - 0s 3ms/step - loss: 6.2612e-04\n",
            "Epoch 43/100\n",
            "32/32 [==============================] - 0s 2ms/step - loss: 2.7905e-05\n",
            "Epoch 44/100\n",
            "32/32 [==============================] - 0s 3ms/step - loss: 3.6444e-05\n",
            "Epoch 45/100\n",
            "32/32 [==============================] - 0s 2ms/step - loss: 6.4624e-05\n",
            "Epoch 46/100\n",
            "32/32 [==============================] - 0s 2ms/step - loss: 3.1441e-05\n",
            "Epoch 47/100\n",
            "32/32 [==============================] - 0s 2ms/step - loss: 7.1444e-05\n",
            "Epoch 48/100\n",
            "32/32 [==============================] - 0s 3ms/step - loss: 1.0883e-04\n",
            "Epoch 49/100\n",
            "32/32 [==============================] - 0s 3ms/step - loss: 1.4935e-04\n",
            "Epoch 50/100\n",
            "32/32 [==============================] - 0s 2ms/step - loss: 4.6683e-05\n",
            "Epoch 51/100\n",
            "32/32 [==============================] - 0s 2ms/step - loss: 6.6897e-05\n",
            "Epoch 52/100\n",
            "32/32 [==============================] - 0s 3ms/step - loss: 1.5359e-04\n",
            "Epoch 53/100\n",
            "32/32 [==============================] - 0s 3ms/step - loss: 3.8471e-05\n",
            "Epoch 54/100\n",
            "32/32 [==============================] - 0s 2ms/step - loss: 8.0498e-05\n",
            "Epoch 55/100\n",
            "32/32 [==============================] - 0s 3ms/step - loss: 3.2419e-04\n",
            "Epoch 56/100\n",
            "32/32 [==============================] - 0s 3ms/step - loss: 7.2811e-05\n",
            "Epoch 57/100\n",
            "32/32 [==============================] - 0s 2ms/step - loss: 6.1465e-05\n",
            "Epoch 58/100\n",
            "32/32 [==============================] - 0s 3ms/step - loss: 4.9889e-05\n",
            "Epoch 59/100\n",
            "32/32 [==============================] - 0s 3ms/step - loss: 4.3102e-05\n",
            "Epoch 60/100\n",
            "32/32 [==============================] - 0s 3ms/step - loss: 6.1258e-05\n",
            "Epoch 61/100\n",
            "32/32 [==============================] - 0s 3ms/step - loss: 8.6285e-05\n",
            "Epoch 62/100\n",
            "32/32 [==============================] - 0s 3ms/step - loss: 8.6890e-05\n",
            "Epoch 63/100\n",
            "32/32 [==============================] - 0s 4ms/step - loss: 2.3047e-04\n",
            "Epoch 64/100\n",
            "32/32 [==============================] - 0s 3ms/step - loss: 8.9168e-05\n",
            "Epoch 65/100\n",
            "32/32 [==============================] - 0s 3ms/step - loss: 4.1732e-05\n",
            "Epoch 66/100\n",
            "32/32 [==============================] - 0s 3ms/step - loss: 4.8554e-05\n",
            "Epoch 67/100\n",
            "32/32 [==============================] - 0s 3ms/step - loss: 1.3397e-04\n",
            "Epoch 68/100\n",
            "32/32 [==============================] - 0s 3ms/step - loss: 7.9746e-05\n",
            "Epoch 69/100\n",
            "32/32 [==============================] - 0s 4ms/step - loss: 6.2638e-05\n",
            "Epoch 70/100\n",
            "32/32 [==============================] - 0s 3ms/step - loss: 7.0551e-04\n",
            "Epoch 71/100\n",
            "32/32 [==============================] - 0s 4ms/step - loss: 1.9489e-04\n",
            "Epoch 72/100\n",
            "32/32 [==============================] - 0s 5ms/step - loss: 1.2372e-04\n",
            "Epoch 73/100\n",
            "32/32 [==============================] - 0s 4ms/step - loss: 9.0488e-05\n",
            "Epoch 74/100\n",
            "32/32 [==============================] - 0s 4ms/step - loss: 3.0279e-05\n",
            "Epoch 75/100\n",
            "32/32 [==============================] - 0s 4ms/step - loss: 2.9436e-05\n",
            "Epoch 76/100\n",
            "32/32 [==============================] - 0s 4ms/step - loss: 6.9623e-05\n",
            "Epoch 77/100\n",
            "32/32 [==============================] - 0s 4ms/step - loss: 7.2440e-05\n",
            "Epoch 78/100\n",
            "32/32 [==============================] - 0s 4ms/step - loss: 7.1858e-05\n",
            "Epoch 79/100\n",
            "32/32 [==============================] - 0s 4ms/step - loss: 4.3454e-05\n",
            "Epoch 80/100\n",
            "32/32 [==============================] - 0s 4ms/step - loss: 2.2745e-04\n",
            "Epoch 81/100\n",
            "32/32 [==============================] - 0s 4ms/step - loss: 2.9419e-05\n",
            "Epoch 82/100\n",
            "32/32 [==============================] - 0s 4ms/step - loss: 2.4306e-04\n",
            "Epoch 83/100\n",
            "32/32 [==============================] - 0s 4ms/step - loss: 5.3014e-05\n",
            "Epoch 84/100\n",
            "32/32 [==============================] - 0s 4ms/step - loss: 7.0926e-05\n",
            "Epoch 85/100\n",
            "32/32 [==============================] - 0s 4ms/step - loss: 3.7797e-05\n",
            "Epoch 86/100\n",
            "32/32 [==============================] - 0s 4ms/step - loss: 4.3024e-04\n",
            "Epoch 87/100\n",
            "32/32 [==============================] - 0s 5ms/step - loss: 1.2526e-04\n",
            "Epoch 88/100\n",
            "32/32 [==============================] - 0s 5ms/step - loss: 5.1183e-05\n",
            "Epoch 89/100\n",
            "32/32 [==============================] - 0s 4ms/step - loss: 1.2317e-04\n",
            "Epoch 90/100\n",
            "32/32 [==============================] - 0s 4ms/step - loss: 1.2713e-04\n",
            "Epoch 91/100\n",
            "32/32 [==============================] - 0s 5ms/step - loss: 3.3876e-04\n",
            "Epoch 92/100\n",
            "32/32 [==============================] - 0s 4ms/step - loss: 2.0219e-04\n",
            "Epoch 93/100\n",
            "32/32 [==============================] - 0s 5ms/step - loss: 1.8053e-04\n",
            "Epoch 94/100\n",
            "32/32 [==============================] - 0s 5ms/step - loss: 7.7293e-05\n",
            "Epoch 95/100\n",
            "32/32 [==============================] - 0s 5ms/step - loss: 5.3401e-05\n",
            "Epoch 96/100\n",
            "32/32 [==============================] - 0s 4ms/step - loss: 6.9262e-05\n",
            "Epoch 97/100\n",
            "32/32 [==============================] - 0s 5ms/step - loss: 1.1024e-04\n",
            "Epoch 98/100\n",
            "32/32 [==============================] - 0s 4ms/step - loss: 4.3464e-05\n",
            "Epoch 99/100\n",
            "32/32 [==============================] - 0s 4ms/step - loss: 8.2583e-05\n",
            "Epoch 100/100\n",
            "32/32 [==============================] - 0s 4ms/step - loss: 4.9930e-05\n"
          ]
        },
        {
          "output_type": "execute_result",
          "data": {
            "text/plain": [
              "<keras.src.callbacks.History at 0x7f94a81e6290>"
            ]
          },
          "metadata": {},
          "execution_count": 212
        }
      ]
    },
    {
      "cell_type": "code",
      "source": [
        "#prediction using the trained sine model\n",
        "x_test = np.array([np.pi/4, np.pi/2, 3*np.pi/4, np.pi, 5*np.pi/4, 3*np.pi/2, 7*np.pi/4, 2*np.pi, 9*np.pi/4, 5*np.pi/2]) #Test input values\n",
        "sinpredictions = sinmodel.predict(x_test)\n",
        "print(sinpredictions)"
      ],
      "metadata": {
        "colab": {
          "base_uri": "https://localhost:8080/"
        },
        "id": "cFEI_iGIzSBE",
        "outputId": "1409457e-cc14-45bc-f7ad-c9a2278d3557"
      },
      "execution_count": 207,
      "outputs": [
        {
          "output_type": "stream",
          "name": "stdout",
          "text": [
            "1/1 [==============================] - 0s 68ms/step\n",
            "[[ 0.6954929 ]\n",
            " [ 0.99021715]\n",
            " [ 0.68149287]\n",
            " [-0.02467642]\n",
            " [-0.7264913 ]\n",
            " [-1.028997  ]\n",
            " [-0.6922108 ]\n",
            " [-0.06246257]\n",
            " [ 0.5672849 ]\n",
            " [ 1.1970329 ]]\n"
          ]
        }
      ]
    },
    {
      "cell_type": "code",
      "source": [
        "#prediction using the trained cosine model\n",
        "x_test = np.array([np.pi/4, np.pi/2, 3*np.pi/4, np.pi, 5*np.pi/4, 3*np.pi/2, 7*np.pi/4, 2*np.pi, 9*np.pi/4, 5*np.pi/2]) #Test input values\n",
        "cospredictions = cosmodel.predict(x_test)\n",
        "print(cospredictions)"
      ],
      "metadata": {
        "colab": {
          "base_uri": "https://localhost:8080/"
        },
        "id": "Pbu-b8-a5f4z",
        "outputId": "cba984f3-69e6-4b64-8515-7f9fa43a8687"
      },
      "execution_count": 213,
      "outputs": [
        {
          "output_type": "stream",
          "name": "stdout",
          "text": [
            "1/1 [==============================] - 0s 89ms/step\n",
            "[[ 0.7053206 ]\n",
            " [-0.00256537]\n",
            " [-0.7128365 ]\n",
            " [-1.0059948 ]\n",
            " [-0.7130153 ]\n",
            " [-0.00866134]\n",
            " [ 0.69767094]\n",
            " [ 0.99247277]\n",
            " [ 0.6895929 ]\n",
            " [-0.01690035]]\n"
          ]
        }
      ]
    },
    {
      "cell_type": "code",
      "source": [
        "#Plot the true Sine function\n",
        "plt.plot(x_train, y_train, label= 'True Sine Function', color='lightgrey', linestyle='dashdot')\n",
        "\n",
        "#Plot the predicted value\n",
        "plt.scatter(x_test, sinpredictions, label='Sine Predictions', color='black')\n",
        "\n",
        "plt.xlabel('Inputs')\n",
        "plt.ylabel('Outputs')\n",
        "plt.title('Sine Predictions vs True Sine Function')\n",
        "plt.legend()\n",
        "plt.grid(True)\n",
        "plt.show()"
      ],
      "metadata": {
        "colab": {
          "base_uri": "https://localhost:8080/",
          "height": 472
        },
        "id": "idfNNTxLYcFi",
        "outputId": "66f17f8e-5bd1-4863-e17e-dc52c46741d6"
      },
      "execution_count": 209,
      "outputs": [
        {
          "output_type": "display_data",
          "data": {
            "text/plain": [
              "<Figure size 640x480 with 1 Axes>"
            ],
            "image/png": "[encoded data removed]"
          },
          "metadata": {}
        }
      ]
    },
    {
      "cell_type": "code",
      "source": [
        "#Plot the true Cosine function\n",
        "plt.plot(x_train, z_train, label= 'True Cosine Function', color='lightgrey', linestyle='dashdot')\n",
        "\n",
        "#Plot the predicted value\n",
        "plt.scatter(x_test, cospredictions, label='Cosine Predictions', color='black')\n",
        "\n",
        "plt.xlabel('Inputs')\n",
        "plt.ylabel('Outputs')\n",
        "plt.title('Cosine Predictions vs True Cosine Function')\n",
        "plt.legend()\n",
        "plt.grid(True)\n",
        "plt.show()"
      ],
      "metadata": {
        "colab": {
          "base_uri": "https://localhost:8080/",
          "height": 472
        },
        "id": "3yadVxTv5TiZ",
        "outputId": "9bc1b1ce-dfb6-4883-b181-dfe448b917dc"
      },
      "execution_count": 215,
      "outputs": [
        {
          "output_type": "display_data",
          "data": {
            "text/plain": [
              "<Figure size 640x480 with 1 Axes>"
            ],
            "image/png": "[encoded data removed]"
          },
          "metadata": {}
        }
      ]
    },
    {
      "cell_type": "markdown",
      "source": [],
      "metadata": {
        "id": "m5R8H6Qsu-ad"
      }
    }
  ]
}