{
  "nbformat": 4,
  "nbformat_minor": 0,
  "metadata": {
    "colab": {
      "provenance": [],
      "gpuType": "T4",
      "authorship_tag": "ABX9TyOc7IeJcACJRdNPFKDhp0a9",
      "include_colab_link": true
    },
    "kernelspec": {
      "name": "python3",
      "display_name": "Python 3"
    },
    "language_info": {
      "name": "python"
    },
    "accelerator": "GPU"
  },
  "cells": [
    {
      "cell_type": "markdown",
      "metadata": {
        "id": "view-in-github",
        "colab_type": "text"
      },
      "source": [
        "<a href=\"https://colab.research.google.com/github/sadrireza/Neural-Networks/blob/main/OCCNN.ipynb\" target=\"_parent\"><img src=\"https://colab.research.google.com/assets/colab-badge.svg\" alt=\"Open In Colab\"/></a>"
      ]
    },
    {
      "cell_type": "code",
      "execution_count": 4,
      "metadata": {
        "id": "r28PEW0Vj0uu"
      },
      "outputs": [],
      "source": [
        "import tensorflow as tf\n",
        "import numpy as np\n",
        "from sklearn.model_selection import train_test_split\n",
        "from tensorflow.keras.models import Sequential\n",
        "from tensorflow.keras.layers import Dense,  BatchNormalization, LeakyReLU,Dropout,ReLU\n",
        "from sklearn.model_selection import KFold\n",
        "import matplotlib.pyplot as plt\n",
        "from tensorflow import keras\n",
        "from sklearn.metrics import accuracy_score"
      ]
    },
    {
      "cell_type": "code",
      "source": [
        "!ls /content"
      ],
      "metadata": {
        "colab": {
          "base_uri": "https://localhost:8080/"
        },
        "id": "t7lYmUSr6oom",
        "outputId": "36526450-1d40-478e-e946-ccf536cc8b5b"
      },
      "execution_count": 5,
      "outputs": [
        {
          "output_type": "stream",
          "name": "stdout",
          "text": [
            " ACCURACY_OCCNN.py\t     OCCNN_3.py\n",
            " ANOMALY_Z.npy\t\t     sample_data\n",
            " FEATURES_COMP.npy\t    'To relate the provided code to the PDF document you.docx'\n",
            " FEATURE_TEST_COMP.npy\t     Usermanual.docx\n",
            " FEATURE_TRAINING_COMP.npy\n"
          ]
        }
      ]
    },
    {
      "cell_type": "code",
      "source": [
        "# Loading Data\n",
        "training = np.load(\"FEATURE_TRAINING_COMP.npy\")\n",
        "test = np.load(\"FEATURE_TEST_COMP.npy\")\n",
        "X_Z = np.load(\"ANOMALY_Z.npy\")"
      ],
      "metadata": {
        "id": "sT7OuAsDkhDp"
      },
      "execution_count": 6,
      "outputs": []
    },
    {
      "cell_type": "markdown",
      "source": [
        "# New section"
      ],
      "metadata": {
        "id": "L8ff1RzWqUoy"
      }
    },
    {
      "cell_type": "code",
      "source": [
        "# Label Creation\n",
        "X = np.append(training,X_Z,axis=0)\n",
        "L_1 = [1,0]\n",
        "L_2 = [0,1]\n",
        "Label_1 = [L_1 for i in range(len(training))]\n",
        "Label_2 = [L_2 for i in range(len(X_Z))]\n",
        "Label_1 = np.array(Label_1)\n",
        "Label_2 = np.array(Label_2)\n",
        "Label = np.append(Label_1, Label_2, axis=0)\n",
        "hidden_layer = 50"
      ],
      "metadata": {
        "id": "mdsNPVOtkkb5"
      },
      "execution_count": 7,
      "outputs": []
    },
    {
      "cell_type": "code",
      "source": [
        "# Model Creation\n",
        "tf.keras.backend.clear_session()\n",
        "model = Sequential(\n",
        "    [\n",
        "        Dense(hidden_layer,input_shape=(3,), activation=\"relu\", name=\"Input_Layer\"),\n",
        "        Dense(hidden_layer, activation=\"relu\", name=\"layer2\"),\n",
        "        Dense(2,activation=\"softmax\", name=\"Last_layer\"),\n",
        "    ]\n",
        ")\n",
        "\n",
        "opt = tf.keras.optimizers.SGD(learning_rate=0.01)\n",
        "model.compile(\n",
        "    loss='binary_crossentropy',\n",
        "    metrics=['accuracy'],\n",
        "    optimizer=opt,\n",
        ")\n",
        "model.summary()"
      ],
      "metadata": {
        "colab": {
          "base_uri": "https://localhost:8080/"
        },
        "id": "LsFCMZYlksja",
        "outputId": "c36fd086-ed93-4c8e-8b49-517510e8e02f"
      },
      "execution_count": 8,
      "outputs": [
        {
          "output_type": "stream",
          "name": "stdout",
          "text": [
            "Model: \"sequential\"\n",
            "_________________________________________________________________\n",
            " Layer (type)                Output Shape              Param #   \n",
            "=================================================================\n",
            " Input_Layer (Dense)         (None, 50)                200       \n",
            "                                                                 \n",
            " layer2 (Dense)              (None, 50)                2550      \n",
            "                                                                 \n",
            " Last_layer (Dense)          (None, 2)                 102       \n",
            "                                                                 \n",
            "=================================================================\n",
            "Total params: 2852 (11.14 KB)\n",
            "Trainable params: 2852 (11.14 KB)\n",
            "Non-trainable params: 0 (0.00 Byte)\n",
            "_________________________________________________________________\n"
          ]
        }
      ]
    },
    {
      "cell_type": "code",
      "source": [
        "#First Training\n",
        "kf = KFold(n_splits=5,shuffle=True) #Cross Validation to avoid biases in the designed classifications\n",
        "kf.split(X)\n",
        "accuracy_model = []\n",
        "z = 0\n",
        "for train_index, test_index in kf.split(X):\n",
        "    # Split train-test\n",
        "    X_train, X_test = X[train_index], X[test_index]\n",
        "    y_train, y_test = Label[train_index],Label[test_index]\n",
        "    # Train the model\n",
        "    print(X_train.shape)\n",
        "    train_report = model.fit(X_train, y_train, epochs=500, validation_data=(X_test, y_test), verbose=0)\n",
        "    # Append to accuracy_model the accuracy of the model\n",
        "    print(\"******Evaluate on test data with the model:**********\",z)\n",
        "    z = z+1\n",
        "    results = model.evaluate(X_test, y_test)\n",
        "    print(\"test loss, test acc:\", results)\n",
        "    print(train_report.history.keys())"
      ],
      "metadata": {
        "colab": {
          "base_uri": "https://localhost:8080/"
        },
        "id": "ksaKmp0ykxFJ",
        "outputId": "600444c2-04dd-4ef6-b903-8e40443fbc11"
      },
      "execution_count": 9,
      "outputs": [
        {
          "output_type": "stream",
          "name": "stdout",
          "text": [
            "(6720, 3)\n",
            "******Evaluate on test data with the model:********** 0\n",
            "53/53 [==============================] - 0s 2ms/step - loss: 0.0757 - accuracy: 0.9744\n",
            "test loss, test acc: [0.07574070990085602, 0.9744047522544861]\n",
            "dict_keys(['loss', 'accuracy', 'val_loss', 'val_accuracy'])\n",
            "(6720, 3)\n",
            "******Evaluate on test data with the model:********** 1\n",
            "53/53 [==============================] - 0s 2ms/step - loss: 0.0710 - accuracy: 0.9768\n",
            "test loss, test acc: [0.07096181809902191, 0.9767857193946838]\n",
            "dict_keys(['loss', 'accuracy', 'val_loss', 'val_accuracy'])\n",
            "(6720, 3)\n",
            "******Evaluate on test data with the model:********** 2\n",
            "53/53 [==============================] - 0s 2ms/step - loss: 0.0681 - accuracy: 0.9774\n",
            "test loss, test acc: [0.06813709437847137, 0.9773809313774109]\n",
            "dict_keys(['loss', 'accuracy', 'val_loss', 'val_accuracy'])\n",
            "(6720, 3)\n",
            "******Evaluate on test data with the model:********** 3\n",
            "53/53 [==============================] - 0s 3ms/step - loss: 0.0616 - accuracy: 0.9821\n",
            "test loss, test acc: [0.061618074774742126, 0.9821428656578064]\n",
            "dict_keys(['loss', 'accuracy', 'val_loss', 'val_accuracy'])\n",
            "(6720, 3)\n",
            "******Evaluate on test data with the model:********** 4\n",
            "53/53 [==============================] - 0s 3ms/step - loss: 0.0760 - accuracy: 0.9774\n",
            "test loss, test acc: [0.0760202705860138, 0.9773809313774109]\n",
            "dict_keys(['loss', 'accuracy', 'val_loss', 'val_accuracy'])\n"
          ]
        }
      ]
    },
    {
      "cell_type": "code",
      "source": [
        "# Label Test Creation\n",
        "\n",
        "n_good = 4922-3400\n",
        "n_bad = len(test)-n_good\n",
        "Lable_1 = [1,0]\n",
        "Lable_2 = [0,1]\n",
        "Label_1 = [Lable_1 for i in range(n_good)]\n",
        "\n",
        "Label_2 = [Lable_2 for i in range(n_bad)]\n",
        "Label_1 = np.array(Label_1)\n",
        "Label_2 = np.array(Label_2)\n",
        "Label = np.append(Label_1, Label_2, axis=0)\n",
        "model.evaluate(test, Label)"
      ],
      "metadata": {
        "colab": {
          "base_uri": "https://localhost:8080/"
        },
        "id": "1sbuC8jek-Td",
        "outputId": "3cd05801-d3d8-417d-8eb4-0afe0fd6df7b"
      },
      "execution_count": 10,
      "outputs": [
        {
          "output_type": "stream",
          "name": "stdout",
          "text": [
            "71/71 [==============================] - 0s 3ms/step - loss: 0.1053 - accuracy: 0.9551\n"
          ]
        },
        {
          "output_type": "execute_result",
          "data": {
            "text/plain": [
              "[0.10525011271238327, 0.9551310539245605]"
            ]
          },
          "metadata": {},
          "execution_count": 10
        }
      ]
    },
    {
      "cell_type": "code",
      "source": [
        "#Cycle 2\n",
        "P_pred = model.predict(X_Z)\n",
        "Adversal = X_Z[P_pred[:,0]<0.5,:]\n",
        "len(Adversal)\n",
        "\n",
        "#fig = plt.figure(figsize=(10, 10))\n",
        "#ax = fig.add_subplot(111, projection='3d')\n",
        "#ax.scatter(Adversal[:,0], Adversal[:,1], Adversal[:,2], alpha=0.5, color='red')\n",
        "#ax.set_xlabel('f1')\n",
        "#ax.set_ylabel('f2')\n",
        "#ax.set_zlabel('TDT2')\n",
        "#ax.set_xlim(-1, 1)\n",
        "#ax.set_ylim(-1, 1)\n",
        "#ax.set_zlim(-1, 1)\n",
        "#ax.set_title('Feature space')\n",
        "#plt.show()\n"
      ],
      "metadata": {
        "colab": {
          "base_uri": "https://localhost:8080/"
        },
        "id": "tAUPyLpslCE9",
        "outputId": "5976a53b-65fb-4d85-cfe4-425ece314416"
      },
      "execution_count": 11,
      "outputs": [
        {
          "output_type": "stream",
          "name": "stdout",
          "text": [
            "157/157 [==============================] - 0s 1ms/step\n"
          ]
        },
        {
          "output_type": "execute_result",
          "data": {
            "text/plain": [
              "4855"
            ]
          },
          "metadata": {},
          "execution_count": 11
        }
      ]
    },
    {
      "cell_type": "code",
      "source": [
        "#Preparation of Training Cycle 2\n",
        "X = np.append(training,Adversal,axis=0)\n",
        "L_1 = [1, 0]\n",
        "L_2 = [0, 1]\n",
        "Label_1 = [L_1 for i in range(len(training))]\n",
        "Label_2 = [L_2 for i in range(len(Adversal))]\n",
        "Label_1 = np.array(Label_1)\n",
        "Label_2 = np.array(Label_2)\n",
        "Label = np.append(Label_1, Label_2, axis=0)\n",
        "\n",
        "X_train, X_test, y_train, y_test = train_test_split(X, Label, test_size=0.3)\n",
        "\n",
        "kf = KFold(n_splits=5,shuffle=True)\n",
        "kf.split(X)\n",
        "accuracy_model = []\n",
        "z = 0\n",
        "for train_index, test_index in kf.split(X):\n",
        "    # Split train-test\n",
        "    X_train, X_test = X[train_index], X[test_index]\n",
        "    y_train, y_test = Label[train_index],Label[test_index]\n",
        "    # Train the model\n",
        "    print(X_train.shape)\n",
        "    train_report = model.fit(X_train, y_train, epochs=500, validation_data=(X_test, y_test), verbose=0)\n",
        "    # Append to accuracy_model the accuracy of the model\n",
        "    print(\"******Evaluate on test data with the model:**********\",z)\n",
        "    z = z+1\n",
        "    results = model.evaluate(X_test, y_test)\n",
        "    print(\"test loss, test acc:\", results)\n",
        "    print(train_report.history.keys())\n",
        "\n",
        "model.save('OCC_50_50_2C')"
      ],
      "metadata": {
        "colab": {
          "base_uri": "https://localhost:8080/"
        },
        "id": "wkP6U4bIlJZ6",
        "outputId": "e04d8ad6-bb25-46bb-da29-be5c007d19b6"
      },
      "execution_count": null,
      "outputs": [
        {
          "output_type": "stream",
          "name": "stdout",
          "text": [
            "(6604, 3)\n",
            "******Evaluate on test data with the model:********** 0\n",
            "52/52 [==============================] - 0s 2ms/step - loss: 0.0140 - accuracy: 0.9933\n",
            "test loss, test acc: [0.014032633975148201, 0.9933373928070068]\n",
            "dict_keys(['loss', 'accuracy', 'val_loss', 'val_accuracy'])\n",
            "(6604, 3)\n",
            "******Evaluate on test data with the model:********** 1\n",
            "52/52 [==============================] - 0s 2ms/step - loss: 0.0079 - accuracy: 0.9970\n",
            "test loss, test acc: [0.007874536328017712, 0.9969715476036072]\n",
            "dict_keys(['loss', 'accuracy', 'val_loss', 'val_accuracy'])\n",
            "(6604, 3)\n",
            "******Evaluate on test data with the model:********** 2\n",
            "52/52 [==============================] - 0s 2ms/step - loss: 0.0069 - accuracy: 0.9976\n",
            "test loss, test acc: [0.006869628559798002, 0.9975772500038147]\n",
            "dict_keys(['loss', 'accuracy', 'val_loss', 'val_accuracy'])\n",
            "(6604, 3)\n"
          ]
        }
      ]
    }
  ]
}