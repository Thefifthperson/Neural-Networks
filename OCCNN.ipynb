{
  "nbformat": 4,
  "nbformat_minor": 0,
  "metadata": {
    "colab": {
      "provenance": [],
      "gpuType": "T4",
      "authorship_tag": "ABX9TyOFIdGYICxETVNg0txRU9si",
      "include_colab_link": true
    },
    "kernelspec": {
      "name": "python3",
      "display_name": "Python 3"
    },
    "language_info": {
      "name": "python"
    },
    "accelerator": "GPU"
  },
  "cells": [
    {
      "cell_type": "markdown",
      "metadata": {
        "id": "view-in-github",
        "colab_type": "text"
      },
      "source": [
        "<a href=\"https://colab.research.google.com/github/sadrireza/Neural-Networks/blob/main/OCCNN.ipynb\" target=\"_parent\"><img src=\"https://colab.research.google.com/assets/colab-badge.svg\" alt=\"Open In Colab\"/></a>"
      ]
    },
    {
      "cell_type": "code",
      "execution_count": 6,
      "metadata": {
        "id": "r28PEW0Vj0uu"
      },
      "outputs": [],
      "source": [
        "import tensorflow as tf\n",
        "import numpy as np\n",
        "from sklearn.model_selection import train_test_split\n",
        "from tensorflow.keras.models import Sequential\n",
        "from tensorflow.keras.layers import Dense,  BatchNormalization, LeakyReLU,Dropout,ReLU\n",
        "from sklearn.model_selection import KFold\n",
        "import matplotlib.pyplot as plt\n",
        "from tensorflow import keras\n",
        "from sklearn.metrics import accuracy_score"
      ]
    },
    {
      "cell_type": "code",
      "source": [
        "!ls /content"
      ],
      "metadata": {
        "colab": {
          "base_uri": "https://localhost:8080/"
        },
        "id": "t7lYmUSr6oom",
        "outputId": "8512e0fc-8999-4724-f1bd-b99e86551671"
      },
      "execution_count": 7,
      "outputs": [
        {
          "output_type": "stream",
          "name": "stdout",
          "text": [
            "ACCURACY_OCCNN.py  FEATURES_COMP.npy\t  FEATURE_TRAINING_COMP.npy  sample_data\n",
            "ANOMALY_Z.npy\t   FEATURE_TEST_COMP.npy  OCCNN_3.py\t\t     Usermanual.docx\n"
          ]
        }
      ]
    },
    {
      "cell_type": "code",
      "source": [
        "# CARICAMENTO DATI\n",
        "training = np.load(\"FEATURE_TRAINING_COMP.npy\")\n",
        "test = np.load(\"FEATURE_TEST_COMP.npy\")\n",
        "X_Z = np.load(\"ANOMALY_Z.npy\")"
      ],
      "metadata": {
        "id": "sT7OuAsDkhDp"
      },
      "execution_count": 8,
      "outputs": []
    },
    {
      "cell_type": "code",
      "source": [
        "# CREAZIONE LABEL\n",
        "X = np.append(training,X_Z,axis=0)\n",
        "L_1 = [1,0]\n",
        "L_2 = [0,1]\n",
        "Label_1 = [L_1 for i in range(len(training))]\n",
        "Label_2 = [L_2 for i in range(len(X_Z))]\n",
        "Label_1 = np.array(Label_1)\n",
        "Label_2 = np.array(Label_2)\n",
        "Label = np.append(Label_1, Label_2, axis=0)\n",
        "hidden_layer = 50"
      ],
      "metadata": {
        "id": "mdsNPVOtkkb5"
      },
      "execution_count": 9,
      "outputs": []
    },
    {
      "cell_type": "code",
      "source": [
        "# CREAZIONE MODELLO\n",
        "tf.keras.backend.clear_session()\n",
        "model = Sequential(\n",
        "    [\n",
        "        Dense(hidden_layer,input_shape=(3,), activation=\"relu\", name=\"Input_Layer\"),\n",
        "        Dense(hidden_layer, activation=\"relu\", name=\"layer2\"),\n",
        "        Dense(2,activation=\"softmax\", name=\"Last_layer\"),\n",
        "    ]\n",
        ")\n",
        "\n",
        "opt = tf.keras.optimizers.SGD(learning_rate=0.01)\n",
        "model.compile(\n",
        "    loss='binary_crossentropy',\n",
        "    metrics=['accuracy'],\n",
        "    optimizer=opt,\n",
        ")\n",
        "model.summary()"
      ],
      "metadata": {
        "colab": {
          "base_uri": "https://localhost:8080/"
        },
        "id": "LsFCMZYlksja",
        "outputId": "f4e38d5f-b7e0-45f3-8439-49b71714cb5b"
      },
      "execution_count": 10,
      "outputs": [
        {
          "output_type": "stream",
          "name": "stdout",
          "text": [
            "Model: \"sequential\"\n",
            "_________________________________________________________________\n",
            " Layer (type)                Output Shape              Param #   \n",
            "=================================================================\n",
            " Input_Layer (Dense)         (None, 50)                200       \n",
            "                                                                 \n",
            " layer2 (Dense)              (None, 50)                2550      \n",
            "                                                                 \n",
            " Last_layer (Dense)          (None, 2)                 102       \n",
            "                                                                 \n",
            "=================================================================\n",
            "Total params: 2852 (11.14 KB)\n",
            "Trainable params: 2852 (11.14 KB)\n",
            "Non-trainable params: 0 (0.00 Byte)\n",
            "_________________________________________________________________\n"
          ]
        }
      ]
    },
    {
      "cell_type": "code",
      "source": [
        "#PRIMO ADDESTRAMENTO\n",
        "kf = KFold(n_splits=5,shuffle=True)\n",
        "kf.split(X)\n",
        "accuracy_model = []\n",
        "z = 0\n",
        "for train_index, test_index in kf.split(X):\n",
        "    # Split train-test\n",
        "    X_train, X_test = X[train_index], X[test_index]\n",
        "    y_train, y_test = Label[train_index],Label[test_index]\n",
        "    # Train the model\n",
        "    print(X_train.shape)\n",
        "    train_report = model.fit(X_train, y_train, epochs=500, validation_data=(X_test, y_test), verbose=0)\n",
        "    # Append to accuracy_model the accuracy of the model\n",
        "    print(\"******Evaluate on test data with the model:**********\",z)\n",
        "    z = z+1\n",
        "    results = model.evaluate(X_test, y_test)\n",
        "    print(\"test loss, test acc:\", results)\n",
        "    print(train_report.history.keys())"
      ],
      "metadata": {
        "colab": {
          "base_uri": "https://localhost:8080/"
        },
        "id": "ksaKmp0ykxFJ",
        "outputId": "ab6ec603-4120-4260-80d6-210efb431305"
      },
      "execution_count": 11,
      "outputs": [
        {
          "output_type": "stream",
          "name": "stdout",
          "text": [
            "(6720, 3)\n",
            "******Evaluate on test data with the model:********** 0\n",
            "53/53 [==============================] - 0s 2ms/step - loss: 0.0736 - accuracy: 0.9768\n",
            "test loss, test acc: [0.07361356168985367, 0.9767857193946838]\n",
            "dict_keys(['loss', 'accuracy', 'val_loss', 'val_accuracy'])\n",
            "(6720, 3)\n",
            "******Evaluate on test data with the model:********** 1\n",
            "53/53 [==============================] - 0s 2ms/step - loss: 0.0639 - accuracy: 0.9815\n",
            "test loss, test acc: [0.06387442350387573, 0.9815475940704346]\n",
            "dict_keys(['loss', 'accuracy', 'val_loss', 'val_accuracy'])\n",
            "(6720, 3)\n",
            "******Evaluate on test data with the model:********** 2\n",
            "53/53 [==============================] - 0s 3ms/step - loss: 0.0758 - accuracy: 0.9810\n",
            "test loss, test acc: [0.07584400475025177, 0.9809523820877075]\n",
            "dict_keys(['loss', 'accuracy', 'val_loss', 'val_accuracy'])\n",
            "(6720, 3)\n",
            "******Evaluate on test data with the model:********** 3\n",
            "53/53 [==============================] - 0s 3ms/step - loss: 0.0783 - accuracy: 0.9786\n",
            "test loss, test acc: [0.07833747565746307, 0.9785714149475098]\n",
            "dict_keys(['loss', 'accuracy', 'val_loss', 'val_accuracy'])\n",
            "(6720, 3)\n",
            "******Evaluate on test data with the model:********** 4\n",
            "53/53 [==============================] - 0s 2ms/step - loss: 0.0573 - accuracy: 0.9798\n",
            "test loss, test acc: [0.05728406086564064, 0.9797618985176086]\n",
            "dict_keys(['loss', 'accuracy', 'val_loss', 'val_accuracy'])\n"
          ]
        }
      ]
    },
    {
      "cell_type": "code",
      "source": [
        "# creazione label test\n",
        "\n",
        "n_good = 4922-3400\n",
        "n_bad = len(test)-n_good\n",
        "Lable_1 = [1,0]\n",
        "Lable_2 = [0,1]\n",
        "Label_1 = [Lable_1 for i in range(n_good)]\n",
        "\n",
        "Label_2 = [Lable_2 for i in range(n_bad)]\n",
        "Label_1 = np.array(Label_1)\n",
        "Label_2 = np.array(Label_2)\n",
        "Label = np.append(Label_1, Label_2, axis=0)\n",
        "model.evaluate(test, Label)"
      ],
      "metadata": {
        "colab": {
          "base_uri": "https://localhost:8080/"
        },
        "id": "1sbuC8jek-Td",
        "outputId": "0a01f6fc-2024-40be-dc58-75d927e5053f"
      },
      "execution_count": 12,
      "outputs": [
        {
          "output_type": "stream",
          "name": "stdout",
          "text": [
            "71/71 [==============================] - 0s 2ms/step - loss: 0.0865 - accuracy: 0.9636\n"
          ]
        },
        {
          "output_type": "execute_result",
          "data": {
            "text/plain": [
              "[0.08650083839893341, 0.9635717272758484]"
            ]
          },
          "metadata": {},
          "execution_count": 12
        }
      ]
    },
    {
      "cell_type": "code",
      "source": [
        "#ciclo 2\n",
        "P_pred = model.predict(X_Z)\n",
        "Adversal = X_Z[P_pred[:,0]<0.5,:]\n",
        "len(Adversal)\n",
        "\n",
        "#fig = plt.figure(figsize=(10, 10))\n",
        "#ax = fig.add_subplot(111, projection='3d')\n",
        "#ax.scatter(Adversal[:,0], Adversal[:,1], Adversal[:,2], alpha=0.5, color='red')\n",
        "#ax.set_xlabel('f1')\n",
        "#ax.set_ylabel('f2')\n",
        "#ax.set_zlabel('TDT2')\n",
        "#ax.set_xlim(-1, 1)\n",
        "#ax.set_ylim(-1, 1)\n",
        "#ax.set_zlim(-1, 1)\n",
        "#ax.set_title('Feature space')\n",
        "#plt.show()\n"
      ],
      "metadata": {
        "colab": {
          "base_uri": "https://localhost:8080/"
        },
        "id": "tAUPyLpslCE9",
        "outputId": "2ca64f5c-3127-4bba-e2fb-55073ce8159c"
      },
      "execution_count": 13,
      "outputs": [
        {
          "output_type": "stream",
          "name": "stdout",
          "text": [
            "157/157 [==============================] - 0s 2ms/step\n"
          ]
        },
        {
          "output_type": "execute_result",
          "data": {
            "text/plain": [
              "4873"
            ]
          },
          "metadata": {},
          "execution_count": 13
        }
      ]
    },
    {
      "cell_type": "code",
      "source": [
        "#preparazione training secondo ciclo\n",
        "X = np.append(training,Adversal,axis=0)\n",
        "L_1 = [1, 0]\n",
        "L_2 = [0, 1]\n",
        "Label_1 = [L_1 for i in range(len(training))]\n",
        "Label_2 = [L_2 for i in range(len(Adversal))]\n",
        "Label_1 = np.array(Label_1)\n",
        "Label_2 = np.array(Label_2)\n",
        "Label = np.append(Label_1, Label_2, axis=0)\n",
        "\n",
        "X_train, X_test, y_train, y_test = train_test_split(X, Label, test_size=0.3)\n",
        "\n",
        "kf = KFold(n_splits=5,shuffle=True)\n",
        "kf.split(X)\n",
        "accuracy_model = []\n",
        "z = 0\n",
        "for train_index, test_index in kf.split(X):\n",
        "    # Split train-test\n",
        "    X_train, X_test = X[train_index], X[test_index]\n",
        "    y_train, y_test = Label[train_index],Label[test_index]\n",
        "    # Train the model\n",
        "    print(X_train.shape)\n",
        "    train_report = model.fit(X_train, y_train, epochs=500, validation_data=(X_test, y_test), verbose=0)\n",
        "    # Append to accuracy_model the accuracy of the model\n",
        "    print(\"******Evaluate on test data with the model:**********\",z)\n",
        "    z = z+1\n",
        "    results = model.evaluate(X_test, y_test)\n",
        "    print(\"test loss, test acc:\", results)\n",
        "    print(train_report.history.keys())\n",
        "\n",
        "model.save('OCC_50_50_2C')"
      ],
      "metadata": {
        "colab": {
          "base_uri": "https://localhost:8080/"
        },
        "id": "wkP6U4bIlJZ6",
        "outputId": "8aa51e12-51cc-4242-c07a-533ecd21eb3e"
      },
      "execution_count": 14,
      "outputs": [
        {
          "output_type": "stream",
          "name": "stdout",
          "text": [
            "(6618, 3)\n",
            "******Evaluate on test data with the model:********** 0\n",
            "52/52 [==============================] - 0s 2ms/step - loss: 0.0133 - accuracy: 0.9952\n",
            "test loss, test acc: [0.013337988406419754, 0.9951661825180054]\n",
            "dict_keys(['loss', 'accuracy', 'val_loss', 'val_accuracy'])\n",
            "(6618, 3)\n",
            "******Evaluate on test data with the model:********** 1\n",
            "52/52 [==============================] - 0s 2ms/step - loss: 0.0097 - accuracy: 0.9970\n",
            "test loss, test acc: [0.009712550789117813, 0.9969788789749146]\n",
            "dict_keys(['loss', 'accuracy', 'val_loss', 'val_accuracy'])\n",
            "(6618, 3)\n",
            "******Evaluate on test data with the model:********** 2\n",
            "52/52 [==============================] - 0s 2ms/step - loss: 0.0094 - accuracy: 0.9964\n",
            "test loss, test acc: [0.009427186101675034, 0.9963746070861816]\n",
            "dict_keys(['loss', 'accuracy', 'val_loss', 'val_accuracy'])\n",
            "(6619, 3)\n",
            "******Evaluate on test data with the model:********** 3\n",
            "52/52 [==============================] - 0s 3ms/step - loss: 0.0054 - accuracy: 0.9982\n",
            "test loss, test acc: [0.005379492416977882, 0.9981862306594849]\n",
            "dict_keys(['loss', 'accuracy', 'val_loss', 'val_accuracy'])\n",
            "(6619, 3)\n",
            "******Evaluate on test data with the model:********** 4\n",
            "52/52 [==============================] - 0s 2ms/step - loss: 0.0052 - accuracy: 0.9976\n",
            "test loss, test acc: [0.00515929888933897, 0.9975816011428833]\n",
            "dict_keys(['loss', 'accuracy', 'val_loss', 'val_accuracy'])\n"
          ]
        }
      ]
    }
  ]
}